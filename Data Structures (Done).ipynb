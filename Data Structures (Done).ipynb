{
 "cells": [
  {
   "cell_type": "markdown",
   "id": "3c2e90df",
   "metadata": {},
   "source": [
    "### Q1\n",
    "\n",
    "Name the four built-in data structures in python. Give one examples for each"
   ]
  },
  {
   "cell_type": "code",
   "execution_count": null,
   "id": "1170d632",
   "metadata": {},
   "outputs": [],
   "source": [
    "List = [2,5,6]\n",
    "Dictionary =  {\"Ana\": 23, \"kofi\": 34, \"Adjoa\": 41}\n",
    "sets = {2,4,6,8,10}\n",
    "Tuple = (1,2,3,4,5)"
   ]
  },
  {
   "cell_type": "markdown",
   "id": "b6e1dd1b",
   "metadata": {},
   "source": [
    "### Q2\n",
    "\n",
    "State two differences between a list and a tuple in Python."
   ]
  },
  {
   "cell_type": "code",
   "execution_count": null,
   "id": "cd58c614",
   "metadata": {},
   "outputs": [],
   "source": [
    "list has a [] bracket and tuple is a () bracket\n",
    "list is mutable and tuple is immutable"
   ]
  },
  {
   "cell_type": "markdown",
   "id": "815b4e67",
   "metadata": {},
   "source": [
    "### Q3\n",
    "Make a list containing names of five animals with a variable name `animal_list`\n",
    "\n",
    "Write a code for the following:\n",
    "- Print the first two animals\n",
    "- Print the last two animals\n",
    "- Add three extra animals to the variable `animal_list`\n",
    "- Remove the first two animals from the variable `animal_list`\n",
    "- How many animals are in the `animal_list`?\n",
    "- Create a variable animal_set which stores the set of animal_list \n",
    "- How many elements are in the animal_set?\n"
   ]
  },
  {
   "cell_type": "code",
   "execution_count": 2,
   "id": "248c67df",
   "metadata": {
    "scrolled": false
   },
   "outputs": [],
   "source": [
    "animal_list = [\"dog\", \"cat\", \"lion\", \"horse\", \"cow\"]"
   ]
  },
  {
   "cell_type": "code",
   "execution_count": 3,
   "id": "745568ba",
   "metadata": {},
   "outputs": [
    {
     "data": {
      "text/plain": [
       "['dog', 'cat', 'lion', 'horse', 'cow']"
      ]
     },
     "execution_count": 3,
     "metadata": {},
     "output_type": "execute_result"
    }
   ],
   "source": [
    "animal_list"
   ]
  },
  {
   "cell_type": "code",
   "execution_count": 7,
   "id": "3f255ced",
   "metadata": {},
   "outputs": [
    {
     "data": {
      "text/plain": [
       "['dog', 'cat']"
      ]
     },
     "execution_count": 7,
     "metadata": {},
     "output_type": "execute_result"
    }
   ],
   "source": [
    "animal_list[0:2]"
   ]
  },
  {
   "cell_type": "code",
   "execution_count": 11,
   "id": "25698d00",
   "metadata": {},
   "outputs": [
    {
     "data": {
      "text/plain": [
       "['horse', 'cow']"
      ]
     },
     "execution_count": 11,
     "metadata": {},
     "output_type": "execute_result"
    }
   ],
   "source": [
    "animal_list[3:5]"
   ]
  },
  {
   "cell_type": "code",
   "execution_count": 15,
   "id": "7d2de9ed",
   "metadata": {},
   "outputs": [],
   "source": [
    "animal_list.append([\"pig\", \"tiger\", \"goat\"])"
   ]
  },
  {
   "cell_type": "code",
   "execution_count": 16,
   "id": "8c894c26",
   "metadata": {},
   "outputs": [
    {
     "data": {
      "text/plain": [
       "['dog', 'cat', 'lion', 'horse', 'cow', ['pig', 'tiger', 'goat']]"
      ]
     },
     "execution_count": 16,
     "metadata": {},
     "output_type": "execute_result"
    }
   ],
   "source": [
    "animal_list"
   ]
  },
  {
   "cell_type": "code",
   "execution_count": 18,
   "id": "05170071",
   "metadata": {},
   "outputs": [],
   "source": [
    "animal_list.remove(\"dog\")"
   ]
  },
  {
   "cell_type": "code",
   "execution_count": 19,
   "id": "8a55e8a6",
   "metadata": {},
   "outputs": [],
   "source": [
    "animal_list.remove(\"cat\")"
   ]
  },
  {
   "cell_type": "code",
   "execution_count": 20,
   "id": "18f92ad6",
   "metadata": {},
   "outputs": [
    {
     "data": {
      "text/plain": [
       "['lion', 'horse', 'cow', ['pig', 'tiger', 'goat']]"
      ]
     },
     "execution_count": 20,
     "metadata": {},
     "output_type": "execute_result"
    }
   ],
   "source": [
    "animal_list"
   ]
  },
  {
   "cell_type": "code",
   "execution_count": 21,
   "id": "0744a2e6",
   "metadata": {},
   "outputs": [
    {
     "data": {
      "text/plain": [
       "4"
      ]
     },
     "execution_count": 21,
     "metadata": {},
     "output_type": "execute_result"
    }
   ],
   "source": [
    "len(animal_list)"
   ]
  },
  {
   "cell_type": "code",
   "execution_count": 25,
   "id": "9162327a",
   "metadata": {},
   "outputs": [],
   "source": [
    "animal_set = set(\"animal_list\")"
   ]
  },
  {
   "cell_type": "code",
   "execution_count": 26,
   "id": "7d77b208",
   "metadata": {},
   "outputs": [
    {
     "data": {
      "text/plain": [
       "8"
      ]
     },
     "execution_count": 26,
     "metadata": {},
     "output_type": "execute_result"
    }
   ],
   "source": [
    "len(animal_set)"
   ]
  },
  {
   "cell_type": "markdown",
   "id": "113c9970",
   "metadata": {},
   "source": [
    "### Q4\n",
    "\n",
    "Given a list:\n",
    "\n",
    "suitcase = [\"sunglasses\", \"hat\", \"passport\", \"laptop\", \"suit\", \"shoes\"]\n",
    "\n",
    "a. Create a list called first containing only the two first items from suitcase.\n",
    "\n",
    "b. Create a list called middle containing only the two middle items from suitcase.\n",
    "\n",
    "c. Create a list called last made up only of the last two items from suitcase."
   ]
  },
  {
   "cell_type": "code",
   "execution_count": 27,
   "id": "01e0956c",
   "metadata": {},
   "outputs": [],
   "source": [
    "suitcase =[\"sunglasses\", \"hat\", \"passport\", \"laptop\", \"suit\", \"shoes\"]"
   ]
  },
  {
   "cell_type": "code",
   "execution_count": 28,
   "id": "d7bda13c",
   "metadata": {},
   "outputs": [
    {
     "data": {
      "text/plain": [
       "['sunglasses', 'hat', 'passport', 'laptop', 'suit', 'shoes']"
      ]
     },
     "execution_count": 28,
     "metadata": {},
     "output_type": "execute_result"
    }
   ],
   "source": [
    "suitcase"
   ]
  },
  {
   "cell_type": "code",
   "execution_count": 29,
   "id": "60dad8d2",
   "metadata": {},
   "outputs": [
    {
     "data": {
      "text/plain": [
       "['sunglasses', 'hat']"
      ]
     },
     "execution_count": 29,
     "metadata": {},
     "output_type": "execute_result"
    }
   ],
   "source": [
    "suitcase[0:2]"
   ]
  },
  {
   "cell_type": "code",
   "execution_count": 30,
   "id": "682c9a94",
   "metadata": {},
   "outputs": [],
   "source": [
    "first = suitcase[0:2]"
   ]
  },
  {
   "cell_type": "code",
   "execution_count": 32,
   "id": "db3fd2d0",
   "metadata": {},
   "outputs": [
    {
     "data": {
      "text/plain": [
       "['passport', 'laptop']"
      ]
     },
     "execution_count": 32,
     "metadata": {},
     "output_type": "execute_result"
    }
   ],
   "source": [
    "suitcase[2:4]"
   ]
  },
  {
   "cell_type": "code",
   "execution_count": 33,
   "id": "f3af4fff",
   "metadata": {},
   "outputs": [],
   "source": [
    "middle = suitcase[2:4]"
   ]
  },
  {
   "cell_type": "code",
   "execution_count": 36,
   "id": "62e0ea1f",
   "metadata": {},
   "outputs": [
    {
     "data": {
      "text/plain": [
       "['suit', 'shoes']"
      ]
     },
     "execution_count": 36,
     "metadata": {},
     "output_type": "execute_result"
    }
   ],
   "source": [
    "suitcase[4:6]"
   ]
  },
  {
   "cell_type": "code",
   "execution_count": 37,
   "id": "b47fd156",
   "metadata": {},
   "outputs": [],
   "source": [
    "last = suitcase[4:6]"
   ]
  },
  {
   "cell_type": "code",
   "execution_count": 38,
   "id": "d82d9206",
   "metadata": {},
   "outputs": [
    {
     "data": {
      "text/plain": [
       "['passport', 'laptop']"
      ]
     },
     "execution_count": 38,
     "metadata": {},
     "output_type": "execute_result"
    }
   ],
   "source": [
    "middle"
   ]
  },
  {
   "cell_type": "markdown",
   "id": "711ba044",
   "metadata": {},
   "source": [
    "### Q5\n",
    "Write a python code to insert 35 into the list below. Make sure it is inserted in the right position to maintain the order of the data.\n",
    "\n",
    "`values = [20,25,30,40,45,50,55,60,65,70]`"
   ]
  },
  {
   "cell_type": "code",
   "execution_count": 14,
   "id": "a41fa085",
   "metadata": {},
   "outputs": [],
   "source": [
    "values = {20,25,30,40,45,50,55,60,65,70}"
   ]
  },
  {
   "cell_type": "code",
   "execution_count": 15,
   "id": "d140ae00",
   "metadata": {},
   "outputs": [],
   "source": [
    "values.add(35)"
   ]
  },
  {
   "cell_type": "code",
   "execution_count": 16,
   "id": "33e70c68",
   "metadata": {},
   "outputs": [
    {
     "data": {
      "text/plain": [
       "{20, 25, 30, 35, 40, 45, 50, 55, 60, 65, 70}"
      ]
     },
     "execution_count": 16,
     "metadata": {},
     "output_type": "execute_result"
    }
   ],
   "source": [
    "values"
   ]
  },
  {
   "cell_type": "markdown",
   "id": "f535cf64",
   "metadata": {},
   "source": [
    "### Q6\n",
    "\n",
    "Given that Python lists and Python tuples are quite similar – when might you prefer to use a tuple over a list?"
   ]
  },
  {
   "cell_type": "markdown",
   "id": "ba944c5d",
   "metadata": {},
   "source": [
    "#### If I have data that's not meant to be changed, i will  choose tuple data type over lists"
   ]
  },
  {
   "cell_type": "markdown",
   "id": "346927f6",
   "metadata": {},
   "source": [
    "### Q7\n",
    "Create a dictionary with 5 Ghana regions and their capitals and store it in the variable `region_capital`\n",
    "\n",
    "- Print out the keys of region_capital\n",
    "- Print out the values of region_capital\n"
   ]
  },
  {
   "cell_type": "code",
   "execution_count": 18,
   "id": "b5bcf95b",
   "metadata": {},
   "outputs": [],
   "source": [
    "regional_capital = {\"Greater Accra\":\"Accra\", \"Ashanti\":\"Kumasi\", \"Eastern\":\"Koforidua\",\"Northern\":\"Tamale\", \"Western\":\"Takoradi\"}"
   ]
  },
  {
   "cell_type": "code",
   "execution_count": 19,
   "id": "f64f561e",
   "metadata": {},
   "outputs": [
    {
     "data": {
      "text/plain": [
       "dict"
      ]
     },
     "execution_count": 19,
     "metadata": {},
     "output_type": "execute_result"
    }
   ],
   "source": [
    "type(regional_capital)"
   ]
  },
  {
   "cell_type": "code",
   "execution_count": 20,
   "id": "76e29be1",
   "metadata": {},
   "outputs": [
    {
     "data": {
      "text/plain": [
       "{'Greater Accra': 'Accra',\n",
       " 'Ashanti': 'Kumasi',\n",
       " 'Eastern': 'Koforidua',\n",
       " 'Northern': 'Tamale',\n",
       " 'Western': 'Takoradi'}"
      ]
     },
     "execution_count": 20,
     "metadata": {},
     "output_type": "execute_result"
    }
   ],
   "source": [
    "regional_capital"
   ]
  },
  {
   "cell_type": "code",
   "execution_count": 22,
   "id": "7aa2cf13",
   "metadata": {},
   "outputs": [
    {
     "data": {
      "text/plain": [
       "dict_keys(['Greater Accra', 'Ashanti', 'Eastern', 'Northern', 'Western'])"
      ]
     },
     "execution_count": 22,
     "metadata": {},
     "output_type": "execute_result"
    }
   ],
   "source": [
    "regional_capital.keys()"
   ]
  },
  {
   "cell_type": "code",
   "execution_count": 21,
   "id": "a1b12211",
   "metadata": {},
   "outputs": [
    {
     "data": {
      "text/plain": [
       "dict_values(['Accra', 'Kumasi', 'Koforidua', 'Tamale', 'Takoradi'])"
      ]
     },
     "execution_count": 21,
     "metadata": {},
     "output_type": "execute_result"
    }
   ],
   "source": [
    "regional_capital.values()"
   ]
  },
  {
   "cell_type": "markdown",
   "id": "70526b3b",
   "metadata": {},
   "source": [
    "### Q8\n",
    "\n",
    "`values = [3,4,5,6,3,4,3,5,2,4,2,5,6,1,6]`\n",
    "\n",
    "Using the codes above answer the following questions:\n",
    "- What is the total number of elements in values?\n",
    "- What is the highest occuring number in the values variable?\n",
    "- Convert values into a set and store it into a variable named `values_set`\n",
    "- How many elements are in the variable values_set?\n"
   ]
  },
  {
   "cell_type": "code",
   "execution_count": 32,
   "id": "77e25a6d",
   "metadata": {},
   "outputs": [],
   "source": [
    "values = [3,4,5,6,3,4,3,5,2,4,2,5,6,1,6]"
   ]
  },
  {
   "cell_type": "code",
   "execution_count": 25,
   "id": "e7327ef0",
   "metadata": {},
   "outputs": [
    {
     "data": {
      "text/plain": [
       "15"
      ]
     },
     "execution_count": 25,
     "metadata": {},
     "output_type": "execute_result"
    }
   ],
   "source": [
    "len(values)"
   ]
  },
  {
   "cell_type": "code",
   "execution_count": 34,
   "id": "c59bf5a4",
   "metadata": {},
   "outputs": [
    {
     "data": {
      "text/plain": [
       "6"
      ]
     },
     "execution_count": 34,
     "metadata": {},
     "output_type": "execute_result"
    }
   ],
   "source": [
    "max(values)"
   ]
  },
  {
   "cell_type": "code",
   "execution_count": 38,
   "id": "93547847",
   "metadata": {},
   "outputs": [],
   "source": [
    "values_set = {3,4,5,6,3,4,3,5,2,4,2,5,6,1,6}"
   ]
  },
  {
   "cell_type": "code",
   "execution_count": 39,
   "id": "45f63e21",
   "metadata": {},
   "outputs": [
    {
     "data": {
      "text/plain": [
       "set"
      ]
     },
     "execution_count": 39,
     "metadata": {},
     "output_type": "execute_result"
    }
   ],
   "source": [
    "type(values_set)"
   ]
  },
  {
   "cell_type": "code",
   "execution_count": 40,
   "id": "da8bff3c",
   "metadata": {},
   "outputs": [
    {
     "data": {
      "text/plain": [
       "{1, 2, 3, 4, 5, 6}"
      ]
     },
     "execution_count": 40,
     "metadata": {},
     "output_type": "execute_result"
    }
   ],
   "source": [
    "values_set"
   ]
  },
  {
   "cell_type": "code",
   "execution_count": 41,
   "id": "13da95b2",
   "metadata": {},
   "outputs": [
    {
     "data": {
      "text/plain": [
       "6"
      ]
     },
     "execution_count": 41,
     "metadata": {},
     "output_type": "execute_result"
    }
   ],
   "source": [
    "len(values_set)"
   ]
  },
  {
   "cell_type": "markdown",
   "id": "801d5876",
   "metadata": {},
   "source": [
    "### Q9\n",
    "Write a Python script to print a dictionary where the keys are numbers between 1 and 15 (both included) and the values are the square of the keys."
   ]
  },
  {
   "cell_type": "code",
   "execution_count": 42,
   "id": "efaeb134",
   "metadata": {},
   "outputs": [],
   "source": [
    "values = {\"1\":1, \"2\":4,\"3\":9,\"4\":16, \"5\":25, \"6\":36,\"7\":49,\"8\":64, \"9\":81,\"10\":100,\"11\":121, \"12\":144, \"13\":169,\"14\":196,\"15\":225}"
   ]
  },
  {
   "cell_type": "code",
   "execution_count": 43,
   "id": "470db9ab",
   "metadata": {},
   "outputs": [
    {
     "data": {
      "text/plain": [
       "dict"
      ]
     },
     "execution_count": 43,
     "metadata": {},
     "output_type": "execute_result"
    }
   ],
   "source": [
    "type(values)"
   ]
  },
  {
   "cell_type": "code",
   "execution_count": 44,
   "id": "5aa92172",
   "metadata": {},
   "outputs": [
    {
     "data": {
      "text/plain": [
       "{'1': 1,\n",
       " '2': 4,\n",
       " '3': 9,\n",
       " '4': 16,\n",
       " '5': 25,\n",
       " '6': 36,\n",
       " '7': 49,\n",
       " '8': 64,\n",
       " '9': 81,\n",
       " '10': 100,\n",
       " '11': 121,\n",
       " '12': 144,\n",
       " '13': 169,\n",
       " '14': 196,\n",
       " '15': 225}"
      ]
     },
     "execution_count": 44,
     "metadata": {},
     "output_type": "execute_result"
    }
   ],
   "source": [
    "values"
   ]
  },
  {
   "cell_type": "markdown",
   "id": "b340eb38",
   "metadata": {},
   "source": [
    "### Q10\n",
    "Write a Python program to create a dictionary of keys x, y, and z where each key has as value a list from 11-20, 21-30, and 31-40 respectively. Access the fifth value of each key from the dictionary."
   ]
  },
  {
   "cell_type": "code",
   "execution_count": null,
   "id": "fec19820",
   "metadata": {},
   "outputs": [],
   "source": [
    "group_values = "
   ]
  }
 ],
 "metadata": {
  "kernelspec": {
   "display_name": "Python 3 (ipykernel)",
   "language": "python",
   "name": "python3"
  },
  "language_info": {
   "codemirror_mode": {
    "name": "ipython",
    "version": 3
   },
   "file_extension": ".py",
   "mimetype": "text/x-python",
   "name": "python",
   "nbconvert_exporter": "python",
   "pygments_lexer": "ipython3",
   "version": "3.9.13"
  }
 },
 "nbformat": 4,
 "nbformat_minor": 5
}
